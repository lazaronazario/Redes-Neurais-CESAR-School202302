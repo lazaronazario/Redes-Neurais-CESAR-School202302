{
  "nbformat": 4,
  "nbformat_minor": 0,
  "metadata": {
    "colab": {
      "name": "CreateDataset.ipynb",
      "provenance": []
    },
    "kernelspec": {
      "name": "python3",
      "display_name": "Python 3"
    },
    "language_info": {
      "name": "python"
    }
  },
  "cells": [
    {
      "cell_type": "code",
      "execution_count": null,
      "metadata": {
        "id": "WbWji2UXSLbs"
      },
      "outputs": [],
      "source": [
        "!git clone https://github.com/RiddlerQ/simple_image_download "
      ]
    },
    {
      "cell_type": "code",
      "source": [
        "!cd simple_image_download \n",
        "!pip install simple_image_download"
      ],
      "metadata": {
        "id": "4aYRBMPfSVKH"
      },
      "execution_count": null,
      "outputs": []
    },
    {
      "cell_type": "code",
      "source": [
        "!cd ..\n",
        "!apt install imagemagick"
      ],
      "metadata": {
        "id": "4WJZUmYYSVN6"
      },
      "execution_count": null,
      "outputs": []
    },
    {
      "cell_type": "code",
      "source": [
        "from simple_image_download import simple_image_download as simp\n",
        "\n",
        "response = simp.simple_image_download\n",
        "\n",
        "response().download('bicycle', 10)\n",
        "bycicle_urls = response().urls('bicycle', 10)\n",
        "\n",
        "response().download('car', 10)\n",
        "car_urls = response().urls('car', 10)\n",
        "\n",
        "response().download('plane', 10)\n",
        "plane_urls = response().urls('plane', 10)\n",
        "\n",
        "response().download('pencil', 10)\n",
        "pencil_urls = response().urls('pencil', 10)"
      ],
      "metadata": {
        "id": "hJxNOGT_SVQy"
      },
      "execution_count": null,
      "outputs": []
    },
    {
      "cell_type": "code",
      "source": [
        "!cd simple_images/\n",
        "!mkdir val/\n",
        "!mkdir val/bicycle/\n",
        "!mkdir val/car/\n",
        "!mkdir val/plane/\n",
        "!mkdir val/pencil/\n",
        "!cd bicycle/\n",
        "!shuf -zn10 -e *.jpg | xargs -0 cp -vt val/bicycle/\n",
        "!cd ..\n",
        "!cd car/\n",
        "!shuf -zn10 -e *.jpg | xargs -0 cp -vt val/car/\n",
        "!cd ..\n",
        "!cd plane/\n",
        "!shuf -zn10 -e *.jpg | xargs -0 cp -vt val/plane/\n",
        "!cd ..\n",
        "!cd pencil/\n",
        "!shuf -zn10 -e *.jpg | xargs -0 cp -vt val/pencil/\n",
        "!cd .."
      ],
      "metadata": {
        "id": "wF9EHGVZSVUB"
      },
      "execution_count": null,
      "outputs": []
    }
  ]
}